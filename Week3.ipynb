{
 "cells": [
  {
   "cell_type": "code",
   "execution_count": 8,
   "metadata": {},
   "outputs": [
    {
     "name": "stdout",
     "output_type": "stream",
     "text": [
      "BDMI\n"
     ]
    }
   ],
   "source": [
    "import os\n",
    "current_file=os.path.realpath('Week3.ipynb')\n",
    "current_dir=os.path.dirname(current_file)\n",
    "#data_dir=os.path.join(current_dir,'data')\n",
    "\n",
    "file_path=os.path.join(current_dir,'simple_file.txt')\n",
    "\n",
    "with open(file_path,'r') as simple_file:\n",
    "    for line in simple_file:\n",
    "        print(line.strip())"
   ]
  },
  {
   "cell_type": "code",
   "execution_count": 12,
   "metadata": {},
   "outputs": [],
   "source": [
    "new_file_path=os.path.join(current_dir,'myclassmates.txt')\n",
    "\n",
    "with open(new_file_path,'a') as classmates:\n",
    "    classmates.write('袁泽 212321323213\\n')\n",
    "    classmates.write('lsy 2321323213\\n')\n",
    "    classmates.write('sy 212321323213\\n')"
   ]
  },
  {
   "cell_type": "code",
   "execution_count": 20,
   "metadata": {},
   "outputs": [
    {
     "name": "stdout",
     "output_type": "stream",
     "text": [
      "[1, 2, 3, 4, 5, 6, 7, 8, 9, 10, 11, 12, 13]\n"
     ]
    }
   ],
   "source": [
    "A=[1,3,5,7,9,11,12]\n",
    "B=[2,4,6,8,10,13]\n",
    "\n",
    "i=0\n",
    "j=0\n",
    "ret=[]\n",
    "while i<len(A) and j<len(B):\n",
    "    if A[i]<B[j]:\n",
    "        ret.append(A[i])\n",
    "        i+=1\n",
    "    else: \n",
    "        ret.append(B[j])\n",
    "        j+=1\n",
    "while i<len(A):\n",
    "    ret.append(A[i])\n",
    "    i+=1\n",
    "while j<len(B):\n",
    "    ret.append(B[j])\n",
    "    j+=1\n",
    "print(ret)\n",
    "        "
   ]
  },
  {
   "cell_type": "code",
   "execution_count": null,
   "metadata": {},
   "outputs": [],
   "source": [
    "from tkinter import *\n",
    "\n",
    "\n",
    "\n",
    "def click():\n",
    "    name = textbox1.get()\n",
    "    message = str(\"Hello\\n\"+name)\n",
    "    textbox2[\"bg\"] = \"yellow\"\n",
    "    textbox2[\"fg\"] = \"red\"\n",
    "    textbox2[\"text\"] = message\n",
    "    \n",
    "window = Tk()\n",
    "window.geometry(\"500x200\")\n",
    "label1 = Label(text=\"Enter your name:\")\n",
    "label1.place(x=30, y=20)\n",
    "textbox1 = Entry(text=\"\")\n",
    "textbox1.place(x=150, y=20, width=200, height=25)\n",
    "textbox1['justify'] = 'center'\n",
    "textbox1.focus()\n",
    "\n",
    "button1 = Button(text='Press me', command=click)\n",
    "button1.place(x=30, y=50, width=120, height=25)\n",
    "\n",
    "textbox2 = Message(text=\"\")\n",
    "textbox2.place(x=150, y=50, width=200, height=50)\n",
    "textbox2[\"bg\"] = \"white\"\n",
    "textbox2[\"fg\"] = \"black\"\n",
    "window.mainloop()"
   ]
  }
 ],
 "metadata": {
  "kernelspec": {
   "display_name": "Python 3",
   "language": "python",
   "name": "python3"
  },
  "language_info": {
   "codemirror_mode": {
    "name": "ipython",
    "version": 3
   },
   "file_extension": ".py",
   "mimetype": "text/x-python",
   "name": "python",
   "nbconvert_exporter": "python",
   "pygments_lexer": "ipython3",
   "version": "3.8.5"
  }
 },
 "nbformat": 4,
 "nbformat_minor": 4
}
